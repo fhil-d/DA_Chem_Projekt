{
 "cells": [
  {
   "cell_type": "code",
   "execution_count": null,
   "metadata": {},
   "outputs": [],
   "source": []
  },
  {
   "cell_type": "markdown",
   "metadata": {},
   "source": [
    "2st Project part: Feature Engineering and Data Modeling\n",
    "===\n",
    "\n",
    "__Data Analytics für Chemieingenieure und Chemiker__\n",
    "\n",
    "Tino Mundt, M. Sc.\n",
    "\n",
    "Prof. Dr. Reinhard Schomäcker\n",
    "\n",
    "__Group C:__\n",
    "\n",
    "Frank Rudolf Hilden 364571 - Giam Chon Lee 400646 - Philippe Samuel Santos da Costa 369810 - Julian Felipe Torres Campos 402424 - Elron Elias Pens 371555\n",
    "\n",
    "__12.01.2020__"
   ]
  },
  {
   "cell_type": "markdown",
   "metadata": {},
   "source": [
    "<h1>Table of Contents<span class=\"tocSkip\"></span></h1>\n",
    "<div class=\"toc\"><ul class=\"toc-item\">\n",
    "\n"
   ]
  },
  {
   "cell_type": "code",
   "execution_count": 6,
   "metadata": {},
   "outputs": [],
   "source": [
    "%matplotlib inline\n",
    "%config InlineBackend,figure_format = 'svg'\n",
    "\n",
    "import pandas as pd\n",
    "import numpy as np\n",
    "import matplotlib.pyplot as plt"
   ]
  },
  {
   "cell_type": "code",
   "execution_count": 7,
   "metadata": {},
   "outputs": [],
   "source": [
    "pd.options.display.max_columns = None"
   ]
  },
  {
   "cell_type": "code",
   "execution_count": 8,
   "metadata": {},
   "outputs": [],
   "source": [
    "df = pd.read_pickle('./Data/process_data_df10.pkl')"
   ]
  },
  {
   "cell_type": "markdown",
   "metadata": {},
   "source": [
    "## Stating and testing Hypothesis\n",
    "\n",
    "We'd like to test the Hypothesis that:\n",
    "> The variable \"caprolactam\" influences the \"Salzrückhalt\" oder the \"Durchfluss\""
   ]
  },
  {
   "cell_type": "code",
   "execution_count": 10,
   "metadata": {},
   "outputs": [],
   "source": [
    "x = df['pa']['pa_ce-capro_lactam_%']"
   ]
  },
  {
   "cell_type": "code",
   "execution_count": 11,
   "metadata": {},
   "outputs": [],
   "source": [
    "Y1 = df['qc'][['qc_minimalersalzrueckhalt', \n",
    "          'qc_durchminimalersalzrueckhalt',\n",
    "          'qc_maximalersalzrueckhalt',\n",
    "          'qc_rueckhalt',\n",
    "          'qc_nachkommasalzrueckhalt']]\n",
    "\n",
    "Y2 = df['qc'][['qc_durchfluss',\n",
    "                'qc_minimalerdurchfluss',\n",
    "                'qc_durchminimalersalzrueckhalt',\n",
    "                'qc_durchminimalerdurchfluss',\n",
    "                'qc_minimalerdurchflussgpd',\n",
    "                'qc_maximalerdurchfluss',\n",
    "                'qc_nachkommadurchfluss']]"
   ]
  },
  {
   "cell_type": "code",
   "execution_count": 44,
   "metadata": {},
   "outputs": [
    {
     "data": {
      "image/png": "[encoded data removed]",
      "text/plain": [
       "<Figure size 1080x504 with 1 Axes>"
      ]
     },
     "metadata": {
      "needs_background": "light"
     },
     "output_type": "display_data"
    }
   ],
   "source": [
    "# plt.scatter(x,x)\n",
    "# plt.show()\n",
    "# x.hist(bins = 100)\n",
    "\n",
    "# Y1['qc_rueckhalt'].hist(bins = 100)\n",
    "\n",
    "plt.rcParams['figure.figsize'] = (15,7)\n",
    "plt.rcParams.update({'font.size':17})\n",
    "plt.scatter(x,Y1['qc_durchminimalersalzrueckhalt'])\n",
    "plt.show()"
   ]
  },
  {
   "cell_type": "code",
   "execution_count": null,
   "metadata": {},
   "outputs": [],
   "source": []
  }
 ],
 "metadata": {
  "kernelspec": {
   "display_name": "Python 3",
   "language": "python",
   "name": "python3"
  },
  "language_info": {
   "codemirror_mode": {
    "name": "ipython",
    "version": 3
   },
   "file_extension": ".py",
   "mimetype": "text/x-python",
   "name": "python",
   "nbconvert_exporter": "python",
   "pygments_lexer": "ipython3",
   "version": "3.7.3"
  },
  "toc": {
   "base_numbering": 1,
   "nav_menu": {},
   "number_sections": false,
   "sideBar": true,
   "skip_h1_title": false,
   "title_cell": "Table of Contents",
   "title_sidebar": "Contents",
   "toc_cell": false,
   "toc_position": {
    "height": "calc(100% - 180px)",
    "left": "10px",
    "top": "150px",
    "width": "273.188px"
   },
   "toc_section_display": true,
   "toc_window_display": true
  },
  "toc-autonumbering": true,
  "toc-showcode": false,
  "toc-showmarkdowntxt": false,
  "toc-showtags": true
 },
 "nbformat": 4,
 "nbformat_minor": 2
}
