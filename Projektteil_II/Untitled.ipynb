{
 "cells": [
  {
   "cell_type": "code",
   "execution_count": 2,
   "metadata": {},
   "outputs": [],
   "source": [
    "import numpy as np\n",
    "import pandas as pd\n",
    "\n",
    "%matplotlib notebook\n",
    "import matplotlib.pyplot as plt\n",
    "\n",
    "pd.options.display.max_columns = None"
   ]
  },
  {
   "cell_type": "code",
   "execution_count": 3,
   "metadata": {},
   "outputs": [],
   "source": [
    "df = pd.read_pickle('./Data/process_data_df10.pkl')"
   ]
  },
  {
   "cell_type": "markdown",
   "metadata": {},
   "source": [
    "`pa_coating` is a dummy variable and doesn't belong to the original collected data. For further analysis it can be dropped."
   ]
  },
  {
   "cell_type": "markdown",
   "metadata": {},
   "source": [
    "### Removing unnecessary columns"
   ]
  },
  {
   "cell_type": "code",
   "execution_count": 4,
   "metadata": {},
   "outputs": [],
   "source": [
    "colsToRemove = ['pa_coating']\n",
    "\n",
    "df1 = df.copy()\n",
    "df1.drop(labels=colsToRemove,axis='columns',level=1,inplace=True)"
   ]
  },
  {
   "cell_type": "markdown",
   "metadata": {},
   "source": [
    "Let's check whether the variables where succesfully removed:"
   ]
  },
  {
   "cell_type": "code",
   "execution_count": 5,
   "metadata": {},
   "outputs": [
    {
     "name": "stdout",
     "output_type": "stream",
     "text": [
      "Are any of the `colsToRemove` in `df`?\n",
      "   True\n",
      "\n",
      "\n",
      "Are any of the `colsToRemove` in `df1`?\n",
      "   False\n"
     ]
    }
   ],
   "source": [
    "# Check if any elements of colsToRemove is in df\n",
    "print('Are any of the `colsToRemove` in `df`?')\n",
    "print('  ',any([i for i in colsToRemove if i in df.columns.get_level_values(level=1)]))\n",
    "print('\\n')\n",
    "\n",
    "# Check if any elements of colsToRemove is in df1\n",
    "print('Are any of the `colsToRemove` in `df1`?')\n",
    "print('  ',any([i for i in colsToRemove if i in df1.columns.get_level_values(level=1)]))"
   ]
  },
  {
   "cell_type": "markdown",
   "metadata": {},
   "source": [
    "### Exploring `p_product`, `p_product_type` and `p_product_group` "
   ]
  },
  {
   "cell_type": "markdown",
   "metadata": {},
   "source": [
    "Nice! Now we could keep removing unnecessary columns, but let's focus in the feature we want to keep/analyse.\n",
    "\n",
    "My 1st question is: \n",
    "> Do the features `qc_salzrckhalt` and `qc_durchfluss` vary significantly among different `p_product`, `p_product_type` and `p_product_group`? "
   ]
  },
  {
   "cell_type": "code",
   "execution_count": 6,
   "metadata": {},
   "outputs": [],
   "source": [
    "# df1.head()\n",
    "# df1.loc[:,(slice(None),['ps','nr','p_product','p_product_group','p_product_type','qc_salzrckhalt','qc_durchfluss'])].head()"
   ]
  },
  {
   "cell_type": "code",
   "execution_count": 7,
   "metadata": {},
   "outputs": [],
   "source": [
    "df2 = df1.copy()\n",
    "df2 = df2.droplevel(level= 0, axis='columns',)\n",
    "\n",
    "XY  = df2[['nr','p_product_group','p_product_type','p_product','qc_salzrckhalt','qc_durchfluss']]\n",
    "# Y  = df2[['qc_salzrckhalt','qc_durchfluss']]\n",
    "# X  = df2[['nr','p_product','p_product_group','p_product_type']]"
   ]
  },
  {
   "cell_type": "code",
   "execution_count": 8,
   "metadata": {},
   "outputs": [
    {
     "data": {
      "text/html": [
       "<div>\n",
       "<style scoped>\n",
       "    .dataframe tbody tr th:only-of-type {\n",
       "        vertical-align: middle;\n",
       "    }\n",
       "\n",
       "    .dataframe tbody tr th {\n",
       "        vertical-align: top;\n",
       "    }\n",
       "\n",
       "    .dataframe thead th {\n",
       "        text-align: right;\n",
       "    }\n",
       "</style>\n",
       "<table border=\"1\" class=\"dataframe\">\n",
       "  <thead>\n",
       "    <tr style=\"text-align: right;\">\n",
       "      <th></th>\n",
       "      <th></th>\n",
       "      <th></th>\n",
       "      <th>qc_salzrckhalt_mean</th>\n",
       "      <th>qc_durchfluss_mean</th>\n",
       "      <th>qc_salzrckhalt_var</th>\n",
       "      <th>qc_durchfluss_var</th>\n",
       "    </tr>\n",
       "    <tr>\n",
       "      <th>p_product_group</th>\n",
       "      <th>p_product_type</th>\n",
       "      <th>p_product</th>\n",
       "      <th></th>\n",
       "      <th></th>\n",
       "      <th></th>\n",
       "      <th></th>\n",
       "    </tr>\n",
       "  </thead>\n",
       "  <tbody>\n",
       "    <tr>\n",
       "      <th rowspan=\"16\" valign=\"top\">Brackwasserelemente</th>\n",
       "      <th rowspan=\"2\" valign=\"top\">5200bdfc01a1</th>\n",
       "      <th>B400 HP</th>\n",
       "      <td>98.989131</td>\n",
       "      <td>47.087445</td>\n",
       "      <td>71.476345</td>\n",
       "      <td>40.327167</td>\n",
       "    </tr>\n",
       "    <tr>\n",
       "      <th>B440 HP</th>\n",
       "      <td>99.163510</td>\n",
       "      <td>54.066717</td>\n",
       "      <td>51.370364</td>\n",
       "      <td>51.775506</td>\n",
       "    </tr>\n",
       "    <tr>\n",
       "      <th rowspan=\"4\" valign=\"top\">6989995295da</th>\n",
       "      <th>B085 LE 4040</th>\n",
       "      <td>99.144588</td>\n",
       "      <td>7.833652</td>\n",
       "      <td>44.251208</td>\n",
       "      <td>0.885173</td>\n",
       "    </tr>\n",
       "    <tr>\n",
       "      <th>B400 LE</th>\n",
       "      <td>98.935167</td>\n",
       "      <td>35.869479</td>\n",
       "      <td>66.230018</td>\n",
       "      <td>14.618364</td>\n",
       "    </tr>\n",
       "    <tr>\n",
       "      <th>B400 LE ASD</th>\n",
       "      <td>99.055540</td>\n",
       "      <td>38.267354</td>\n",
       "      <td>53.562097</td>\n",
       "      <td>18.428664</td>\n",
       "    </tr>\n",
       "    <tr>\n",
       "      <th>B440 LE</th>\n",
       "      <td>98.782107</td>\n",
       "      <td>40.682883</td>\n",
       "      <td>86.792965</td>\n",
       "      <td>33.080534</td>\n",
       "    </tr>\n",
       "    <tr>\n",
       "      <th rowspan=\"3\" valign=\"top\">6d2830b1e76d</th>\n",
       "      <th>B085 HF 4040</th>\n",
       "      <td>99.113559</td>\n",
       "      <td>10.152490</td>\n",
       "      <td>63.535150</td>\n",
       "      <td>2.749589</td>\n",
       "    </tr>\n",
       "    <tr>\n",
       "      <th>B400 HF</th>\n",
       "      <td>99.012014</td>\n",
       "      <td>45.510025</td>\n",
       "      <td>70.983417</td>\n",
       "      <td>46.215917</td>\n",
       "    </tr>\n",
       "    <tr>\n",
       "      <th>B440 HF</th>\n",
       "      <td>98.694982</td>\n",
       "      <td>47.145020</td>\n",
       "      <td>100.284774</td>\n",
       "      <td>45.320901</td>\n",
       "    </tr>\n",
       "    <tr>\n",
       "      <th rowspan=\"3\" valign=\"top\">c77cb1692e0e</th>\n",
       "      <th>B085 ULP 4040</th>\n",
       "      <td>99.271320</td>\n",
       "      <td>8.298521</td>\n",
       "      <td>20.872972</td>\n",
       "      <td>1.029492</td>\n",
       "    </tr>\n",
       "    <tr>\n",
       "      <th>B400 ULP ASD</th>\n",
       "      <td>98.050863</td>\n",
       "      <td>41.327267</td>\n",
       "      <td>142.005482</td>\n",
       "      <td>61.984517</td>\n",
       "    </tr>\n",
       "    <tr>\n",
       "      <th>B440 ULP</th>\n",
       "      <td>98.218921</td>\n",
       "      <td>45.644223</td>\n",
       "      <td>129.373238</td>\n",
       "      <td>68.551198</td>\n",
       "    </tr>\n",
       "    <tr>\n",
       "      <th rowspan=\"2\" valign=\"top\">f187928fdb22</th>\n",
       "      <th>B370 FR</th>\n",
       "      <td>98.812073</td>\n",
       "      <td>40.580885</td>\n",
       "      <td>93.408830</td>\n",
       "      <td>29.184490</td>\n",
       "    </tr>\n",
       "    <tr>\n",
       "      <th>B400 FR ASD</th>\n",
       "      <td>99.013156</td>\n",
       "      <td>46.633970</td>\n",
       "      <td>75.861684</td>\n",
       "      <td>24.506173</td>\n",
       "    </tr>\n",
       "    <tr>\n",
       "      <th rowspan=\"2\" valign=\"top\">f8ba29e9058b</th>\n",
       "      <th>B085 FR 4040</th>\n",
       "      <td>98.701824</td>\n",
       "      <td>10.073621</td>\n",
       "      <td>104.032115</td>\n",
       "      <td>2.574191</td>\n",
       "    </tr>\n",
       "    <tr>\n",
       "      <th>B400 FR</th>\n",
       "      <td>98.924073</td>\n",
       "      <td>44.725683</td>\n",
       "      <td>77.497299</td>\n",
       "      <td>44.805643</td>\n",
       "    </tr>\n",
       "    <tr>\n",
       "      <th rowspan=\"6\" valign=\"top\">Seewasserelemente</th>\n",
       "      <th rowspan=\"3\" valign=\"top\">320144db7b4b</th>\n",
       "      <th>S085 HF 4040</th>\n",
       "      <td>98.616838</td>\n",
       "      <td>7.088446</td>\n",
       "      <td>96.867269</td>\n",
       "      <td>0.679072</td>\n",
       "    </tr>\n",
       "    <tr>\n",
       "      <th>S400 HF</th>\n",
       "      <td>96.226096</td>\n",
       "      <td>33.766855</td>\n",
       "      <td>330.705600</td>\n",
       "      <td>66.437898</td>\n",
       "    </tr>\n",
       "    <tr>\n",
       "      <th>S440 HF</th>\n",
       "      <td>99.343883</td>\n",
       "      <td>39.621275</td>\n",
       "      <td>22.042911</td>\n",
       "      <td>12.948620</td>\n",
       "    </tr>\n",
       "    <tr>\n",
       "      <th rowspan=\"3\" valign=\"top\">cd7216b44ce3</th>\n",
       "      <th>S085 HR 4040</th>\n",
       "      <td>98.377514</td>\n",
       "      <td>6.265555</td>\n",
       "      <td>123.057334</td>\n",
       "      <td>1.175680</td>\n",
       "    </tr>\n",
       "    <tr>\n",
       "      <th>S400 HR</th>\n",
       "      <td>96.653459</td>\n",
       "      <td>27.447772</td>\n",
       "      <td>280.265696</td>\n",
       "      <td>40.045520</td>\n",
       "    </tr>\n",
       "    <tr>\n",
       "      <th>S440 HR</th>\n",
       "      <td>98.344120</td>\n",
       "      <td>25.526313</td>\n",
       "      <td>131.589738</td>\n",
       "      <td>11.270389</td>\n",
       "    </tr>\n",
       "  </tbody>\n",
       "</table>\n",
       "</div>"
      ],
      "text/plain": [
       "                                                  qc_salzrckhalt_mean  \\\n",
       "p_product_group     p_product_type p_product                            \n",
       "Brackwasserelemente 5200bdfc01a1   B400 HP                  98.989131   \n",
       "                                   B440 HP                  99.163510   \n",
       "                    6989995295da   B085 LE 4040             99.144588   \n",
       "                                   B400 LE                  98.935167   \n",
       "                                   B400 LE ASD              99.055540   \n",
       "                                   B440 LE                  98.782107   \n",
       "                    6d2830b1e76d   B085 HF 4040             99.113559   \n",
       "                                   B400 HF                  99.012014   \n",
       "                                   B440 HF                  98.694982   \n",
       "                    c77cb1692e0e   B085 ULP 4040            99.271320   \n",
       "                                   B400 ULP ASD             98.050863   \n",
       "                                   B440 ULP                 98.218921   \n",
       "                    f187928fdb22   B370 FR                  98.812073   \n",
       "                                   B400 FR ASD              99.013156   \n",
       "                    f8ba29e9058b   B085 FR 4040             98.701824   \n",
       "                                   B400 FR                  98.924073   \n",
       "Seewasserelemente   320144db7b4b   S085 HF 4040             98.616838   \n",
       "                                   S400 HF                  96.226096   \n",
       "                                   S440 HF                  99.343883   \n",
       "                    cd7216b44ce3   S085 HR 4040             98.377514   \n",
       "                                   S400 HR                  96.653459   \n",
       "                                   S440 HR                  98.344120   \n",
       "\n",
       "                                                  qc_durchfluss_mean  \\\n",
       "p_product_group     p_product_type p_product                           \n",
       "Brackwasserelemente 5200bdfc01a1   B400 HP                 47.087445   \n",
       "                                   B440 HP                 54.066717   \n",
       "                    6989995295da   B085 LE 4040             7.833652   \n",
       "                                   B400 LE                 35.869479   \n",
       "                                   B400 LE ASD             38.267354   \n",
       "                                   B440 LE                 40.682883   \n",
       "                    6d2830b1e76d   B085 HF 4040            10.152490   \n",
       "                                   B400 HF                 45.510025   \n",
       "                                   B440 HF                 47.145020   \n",
       "                    c77cb1692e0e   B085 ULP 4040            8.298521   \n",
       "                                   B400 ULP ASD            41.327267   \n",
       "                                   B440 ULP                45.644223   \n",
       "                    f187928fdb22   B370 FR                 40.580885   \n",
       "                                   B400 FR ASD             46.633970   \n",
       "                    f8ba29e9058b   B085 FR 4040            10.073621   \n",
       "                                   B400 FR                 44.725683   \n",
       "Seewasserelemente   320144db7b4b   S085 HF 4040             7.088446   \n",
       "                                   S400 HF                 33.766855   \n",
       "                                   S440 HF                 39.621275   \n",
       "                    cd7216b44ce3   S085 HR 4040             6.265555   \n",
       "                                   S400 HR                 27.447772   \n",
       "                                   S440 HR                 25.526313   \n",
       "\n",
       "                                                  qc_salzrckhalt_var  \\\n",
       "p_product_group     p_product_type p_product                           \n",
       "Brackwasserelemente 5200bdfc01a1   B400 HP                 71.476345   \n",
       "                                   B440 HP                 51.370364   \n",
       "                    6989995295da   B085 LE 4040            44.251208   \n",
       "                                   B400 LE                 66.230018   \n",
       "                                   B400 LE ASD             53.562097   \n",
       "                                   B440 LE                 86.792965   \n",
       "                    6d2830b1e76d   B085 HF 4040            63.535150   \n",
       "                                   B400 HF                 70.983417   \n",
       "                                   B440 HF                100.284774   \n",
       "                    c77cb1692e0e   B085 ULP 4040           20.872972   \n",
       "                                   B400 ULP ASD           142.005482   \n",
       "                                   B440 ULP               129.373238   \n",
       "                    f187928fdb22   B370 FR                 93.408830   \n",
       "                                   B400 FR ASD             75.861684   \n",
       "                    f8ba29e9058b   B085 FR 4040           104.032115   \n",
       "                                   B400 FR                 77.497299   \n",
       "Seewasserelemente   320144db7b4b   S085 HF 4040            96.867269   \n",
       "                                   S400 HF                330.705600   \n",
       "                                   S440 HF                 22.042911   \n",
       "                    cd7216b44ce3   S085 HR 4040           123.057334   \n",
       "                                   S400 HR                280.265696   \n",
       "                                   S440 HR                131.589738   \n",
       "\n",
       "                                                  qc_durchfluss_var  \n",
       "p_product_group     p_product_type p_product                         \n",
       "Brackwasserelemente 5200bdfc01a1   B400 HP                40.327167  \n",
       "                                   B440 HP                51.775506  \n",
       "                    6989995295da   B085 LE 4040            0.885173  \n",
       "                                   B400 LE                14.618364  \n",
       "                                   B400 LE ASD            18.428664  \n",
       "                                   B440 LE                33.080534  \n",
       "                    6d2830b1e76d   B085 HF 4040            2.749589  \n",
       "                                   B400 HF                46.215917  \n",
       "                                   B440 HF                45.320901  \n",
       "                    c77cb1692e0e   B085 ULP 4040           1.029492  \n",
       "                                   B400 ULP ASD           61.984517  \n",
       "                                   B440 ULP               68.551198  \n",
       "                    f187928fdb22   B370 FR                29.184490  \n",
       "                                   B400 FR ASD            24.506173  \n",
       "                    f8ba29e9058b   B085 FR 4040            2.574191  \n",
       "                                   B400 FR                44.805643  \n",
       "Seewasserelemente   320144db7b4b   S085 HF 4040            0.679072  \n",
       "                                   S400 HF                66.437898  \n",
       "                                   S440 HF                12.948620  \n",
       "                    cd7216b44ce3   S085 HR 4040            1.175680  \n",
       "                                   S400 HR                40.045520  \n",
       "                                   S440 HR                11.270389  "
      ]
     },
     "execution_count": 8,
     "metadata": {},
     "output_type": "execute_result"
    }
   ],
   "source": [
    "groupCols = ['p_product_group','p_product_type','p_product']\n",
    "goalCols  = ['qc_salzrckhalt','qc_durchfluss']\n",
    "\n",
    "XY_mean = XY.groupby(groupCols)[goalCols].mean()\n",
    "XY_var  = XY.groupby(groupCols)[goalCols].var()\n",
    "# pd.concat({'mean':XY_mean,'var':XY_var},axis=1)\n",
    "\n",
    "pd.merge(XY_mean,XY_var,\n",
    "         sort=True,\n",
    "         suffixes=('_mean','_var'),\n",
    "         left_index=True,\n",
    "         right_index=True)\n",
    "\n",
    "# pd.options.display.max_rows = 10000\n",
    "pd.reset_option(\"display.max_rows\")\n",
    "XY_mean.join(XY_var,\n",
    "      lsuffix='_mean',\n",
    "      rsuffix='_var')"
   ]
  },
  {
   "cell_type": "code",
   "execution_count": 20,
   "metadata": {
    "scrolled": true
   },
   "outputs": [
    {
     "ename": "TypeError",
     "evalue": "scatter() missing 1 required positional argument: 'x'",
     "output_type": "error",
     "traceback": [
      "\u001b[1;31m---------------------------------------------------------------------------\u001b[0m",
      "\u001b[1;31mTypeError\u001b[0m                                 Traceback (most recent call last)",
      "\u001b[1;32m<ipython-input-20-30befd37eecc>\u001b[0m in \u001b[0;36m<module>\u001b[1;34m\u001b[0m\n\u001b[0;32m     12\u001b[0m \u001b[1;33m\u001b[0m\u001b[0m\n\u001b[0;32m     13\u001b[0m \u001b[0mfig1\u001b[0m \u001b[1;33m=\u001b[0m \u001b[0mplt\u001b[0m\u001b[1;33m.\u001b[0m\u001b[0mfigure\u001b[0m\u001b[1;33m(\u001b[0m\u001b[0mfigsize\u001b[0m\u001b[1;33m=\u001b[0m\u001b[1;33m[\u001b[0m\u001b[1;36m10\u001b[0m\u001b[1;33m,\u001b[0m\u001b[1;36m8\u001b[0m\u001b[1;33m]\u001b[0m\u001b[1;33m)\u001b[0m\u001b[1;33m\u001b[0m\u001b[1;33m\u001b[0m\u001b[0m\n\u001b[1;32m---> 14\u001b[1;33m \u001b[0msmry\u001b[0m\u001b[1;33m.\u001b[0m\u001b[0mplot\u001b[0m\u001b[1;33m.\u001b[0m\u001b[0mscatter\u001b[0m\u001b[1;33m(\u001b[0m\u001b[0my\u001b[0m\u001b[1;33m=\u001b[0m\u001b[1;34m'qc_salzrckhalt_mean'\u001b[0m\u001b[1;33m)\u001b[0m\u001b[1;33m\u001b[0m\u001b[1;33m\u001b[0m\u001b[0m\n\u001b[0m\u001b[0;32m     15\u001b[0m \u001b[1;33m\u001b[0m\u001b[0m\n",
      "\u001b[1;31mTypeError\u001b[0m: scatter() missing 1 required positional argument: 'x'"
     ]
    },
    {
     "data": {
      "text/plain": [
       "<Figure size 720x576 with 0 Axes>"
      ]
     },
     "metadata": {},
     "output_type": "display_data"
    }
   ],
   "source": [
    "groupCols = ['p_product_group','p_product_type','p_product']\n",
    "goalCols  = ['qc_salzrckhalt','qc_durchfluss']\n",
    "\n",
    "XY_mean = XY.groupby(groupCols)[goalCols].mean()\n",
    "XY_std  = XY.groupby(groupCols)[goalCols].std()\n",
    "\n",
    "smry= XY_mean.join(XY_std,\n",
    "      lsuffix='_mean',\n",
    "      rsuffix='_std')\n",
    "\n",
    "%matplotlib inline\n",
    "\n",
    "fig1 = plt.figure(figsize=[10,8])\n",
    "smry.plot('qc_salzrckhalt_mean')\n",
    "\n"
   ]
  },
  {
   "cell_type": "code",
   "execution_count": 10,
   "metadata": {
    "scrolled": true
   },
   "outputs": [
    {
     "data": {
      "text/html": [
       "<div>\n",
       "<style scoped>\n",
       "    .dataframe tbody tr th:only-of-type {\n",
       "        vertical-align: middle;\n",
       "    }\n",
       "\n",
       "    .dataframe tbody tr th {\n",
       "        vertical-align: top;\n",
       "    }\n",
       "\n",
       "    .dataframe thead th {\n",
       "        text-align: right;\n",
       "    }\n",
       "</style>\n",
       "<table border=\"1\" class=\"dataframe\">\n",
       "  <thead>\n",
       "    <tr style=\"text-align: right;\">\n",
       "      <th></th>\n",
       "      <th>Max Speed</th>\n",
       "    </tr>\n",
       "    <tr>\n",
       "      <th>Animal</th>\n",
       "      <th></th>\n",
       "    </tr>\n",
       "  </thead>\n",
       "  <tbody>\n",
       "    <tr>\n",
       "      <th>Falcon</th>\n",
       "      <td>375.0</td>\n",
       "    </tr>\n",
       "    <tr>\n",
       "      <th>Parrot</th>\n",
       "      <td>25.0</td>\n",
       "    </tr>\n",
       "  </tbody>\n",
       "</table>\n",
       "</div>"
      ],
      "text/plain": [
       "        Max Speed\n",
       "Animal           \n",
       "Falcon      375.0\n",
       "Parrot       25.0"
      ]
     },
     "execution_count": 10,
     "metadata": {},
     "output_type": "execute_result"
    }
   ],
   "source": [
    "df = pd.DataFrame({'Animal' : ['Falcon', 'Falcon','Parrot', 'Parrot'],\n",
    "                   'Max Speed' : [380., 370., 24., 26.]})\n",
    "df.groupby(['Animal']).mean()"
   ]
  },
  {
   "cell_type": "markdown",
   "metadata": {},
   "source": [
    "### Categorical variables:\n",
    "**Is there a difference in the distribution of `qc_salzrckhalt` or `qc_durchfluss`**\n",
    " \n",
    " product type, group,etc "
   ]
  },
  {
   "cell_type": "code",
   "execution_count": 14,
   "metadata": {},
   "outputs": [],
   "source": [
    "df2 = df1.copy()\n",
    "df2 = df2.droplevel(level= 0, axis='columns')"
   ]
  },
  {
   "cell_type": "code",
   "execution_count": 15,
   "metadata": {},
   "outputs": [],
   "source": [
    "XY = df2[['nr','p_product','p_product_group','p_product_type','qc_salzrckhalt','qc_durchfluss']]\n",
    "Y  = df2[['qc_salzrckhalt','qc_durchfluss']]\n",
    "X  = df2[['nr','p_product','p_product_group','p_product_type']]"
   ]
  },
  {
   "cell_type": "code",
   "execution_count": 16,
   "metadata": {},
   "outputs": [
    {
     "data": {
      "text/plain": [
       "{'nr': 1255, 'p_product': 22, 'p_product_group': 2, 'p_product_type': 8}"
      ]
     },
     "execution_count": 16,
     "metadata": {},
     "output_type": "execute_result"
    }
   ],
   "source": [
    "X.nr.unique()\n",
    "{col:X[col].nunique() for col in X}"
   ]
  },
  {
   "cell_type": "code",
   "execution_count": 17,
   "metadata": {},
   "outputs": [],
   "source": [
    "%matplotlib inline\n",
    "import matplotlib.pyplot as plt\n",
    "plt.rcParams['figure.figsize'] = [10,8]"
   ]
  },
  {
   "cell_type": "code",
   "execution_count": 24,
   "metadata": {},
   "outputs": [],
   "source": [
    "u_ptypes = XY['p_product_type'].unique()\n",
    "u_pgroup = XY['p_product_group'].unique()"
   ]
  },
  {
   "cell_type": "code",
   "execution_count": 26,
   "metadata": {
    "collapsed": true
   },
   "outputs": [
    {
     "ename": "ValueError",
     "evalue": "not enough values to unpack (expected 2, got 0)",
     "output_type": "error",
     "traceback": [
      "\u001b[1;31m---------------------------------------------------------------------------\u001b[0m",
      "\u001b[1;31mValueError\u001b[0m                                Traceback (most recent call last)",
      "\u001b[1;32m<ipython-input-26-be40e32b9015>\u001b[0m in \u001b[0;36m<module>\u001b[1;34m\u001b[0m\n\u001b[0;32m      1\u001b[0m \u001b[1;32mfor\u001b[0m \u001b[0mgr\u001b[0m \u001b[1;32min\u001b[0m \u001b[0mu_pgroup\u001b[0m\u001b[1;33m:\u001b[0m\u001b[1;33m\u001b[0m\u001b[1;33m\u001b[0m\u001b[0m\n\u001b[1;32m----> 2\u001b[1;33m     \u001b[0mXY\u001b[0m\u001b[1;33m[\u001b[0m\u001b[0mXY\u001b[0m\u001b[1;33m[\u001b[0m\u001b[1;34m'p_product_group'\u001b[0m\u001b[1;33m]\u001b[0m\u001b[1;33m==\u001b[0m\u001b[0mgr\u001b[0m\u001b[1;33m]\u001b[0m\u001b[1;33m.\u001b[0m\u001b[0mboxplot\u001b[0m\u001b[1;33m(\u001b[0m\u001b[0mcolumn\u001b[0m\u001b[1;33m=\u001b[0m\u001b[1;34m'qc_salzrckhalt'\u001b[0m\u001b[1;33m,\u001b[0m\u001b[0mby\u001b[0m\u001b[1;33m=\u001b[0m\u001b[1;34m'p_product_type'\u001b[0m\u001b[1;33m)\u001b[0m\u001b[1;33m\u001b[0m\u001b[1;33m\u001b[0m\u001b[0m\n\u001b[0m",
      "\u001b[1;32m~\\Anaconda3\\lib\\site-packages\\pandas\\plotting\\_core.py\u001b[0m in \u001b[0;36mboxplot_frame\u001b[1;34m(self, column, by, ax, fontsize, rot, grid, figsize, layout, return_type, **kwds)\u001b[0m\n\u001b[0;32m   2252\u001b[0m     ax = boxplot(self, column=column, by=by, ax=ax, fontsize=fontsize,\n\u001b[0;32m   2253\u001b[0m                  \u001b[0mgrid\u001b[0m\u001b[1;33m=\u001b[0m\u001b[0mgrid\u001b[0m\u001b[1;33m,\u001b[0m \u001b[0mrot\u001b[0m\u001b[1;33m=\u001b[0m\u001b[0mrot\u001b[0m\u001b[1;33m,\u001b[0m \u001b[0mfigsize\u001b[0m\u001b[1;33m=\u001b[0m\u001b[0mfigsize\u001b[0m\u001b[1;33m,\u001b[0m \u001b[0mlayout\u001b[0m\u001b[1;33m=\u001b[0m\u001b[0mlayout\u001b[0m\u001b[1;33m,\u001b[0m\u001b[1;33m\u001b[0m\u001b[1;33m\u001b[0m\u001b[0m\n\u001b[1;32m-> 2254\u001b[1;33m                  return_type=return_type, **kwds)\n\u001b[0m\u001b[0;32m   2255\u001b[0m     \u001b[0mplt\u001b[0m\u001b[1;33m.\u001b[0m\u001b[0mdraw_if_interactive\u001b[0m\u001b[1;33m(\u001b[0m\u001b[1;33m)\u001b[0m\u001b[1;33m\u001b[0m\u001b[1;33m\u001b[0m\u001b[0m\n\u001b[0;32m   2256\u001b[0m     \u001b[1;32mreturn\u001b[0m \u001b[0max\u001b[0m\u001b[1;33m\u001b[0m\u001b[1;33m\u001b[0m\u001b[0m\n",
      "\u001b[1;32m~\\Anaconda3\\lib\\site-packages\\pandas\\plotting\\_core.py\u001b[0m in \u001b[0;36mboxplot\u001b[1;34m(data, column, by, ax, fontsize, rot, grid, figsize, layout, return_type, **kwds)\u001b[0m\n\u001b[0;32m   2221\u001b[0m                                          \u001b[0mby\u001b[0m\u001b[1;33m=\u001b[0m\u001b[0mby\u001b[0m\u001b[1;33m,\u001b[0m \u001b[0mgrid\u001b[0m\u001b[1;33m=\u001b[0m\u001b[0mgrid\u001b[0m\u001b[1;33m,\u001b[0m \u001b[0mfigsize\u001b[0m\u001b[1;33m=\u001b[0m\u001b[0mfigsize\u001b[0m\u001b[1;33m,\u001b[0m\u001b[1;33m\u001b[0m\u001b[1;33m\u001b[0m\u001b[0m\n\u001b[0;32m   2222\u001b[0m                                          \u001b[0max\u001b[0m\u001b[1;33m=\u001b[0m\u001b[0max\u001b[0m\u001b[1;33m,\u001b[0m \u001b[0mlayout\u001b[0m\u001b[1;33m=\u001b[0m\u001b[0mlayout\u001b[0m\u001b[1;33m,\u001b[0m\u001b[1;33m\u001b[0m\u001b[1;33m\u001b[0m\u001b[0m\n\u001b[1;32m-> 2223\u001b[1;33m                                          return_type=return_type)\n\u001b[0m\u001b[0;32m   2224\u001b[0m     \u001b[1;32melse\u001b[0m\u001b[1;33m:\u001b[0m\u001b[1;33m\u001b[0m\u001b[1;33m\u001b[0m\u001b[0m\n\u001b[0;32m   2225\u001b[0m         \u001b[1;32mif\u001b[0m \u001b[0mreturn_type\u001b[0m \u001b[1;32mis\u001b[0m \u001b[1;32mNone\u001b[0m\u001b[1;33m:\u001b[0m\u001b[1;33m\u001b[0m\u001b[1;33m\u001b[0m\u001b[0m\n",
      "\u001b[1;32m~\\Anaconda3\\lib\\site-packages\\pandas\\plotting\\_core.py\u001b[0m in \u001b[0;36m_grouped_plot_by_column\u001b[1;34m(plotf, data, columns, by, numeric_only, grid, figsize, ax, layout, return_type, **kwargs)\u001b[0m\n\u001b[0;32m   2680\u001b[0m         \u001b[0max\u001b[0m \u001b[1;33m=\u001b[0m \u001b[0m_axes\u001b[0m\u001b[1;33m[\u001b[0m\u001b[0mi\u001b[0m\u001b[1;33m]\u001b[0m\u001b[1;33m\u001b[0m\u001b[1;33m\u001b[0m\u001b[0m\n\u001b[0;32m   2681\u001b[0m         \u001b[0mgp_col\u001b[0m \u001b[1;33m=\u001b[0m \u001b[0mgrouped\u001b[0m\u001b[1;33m[\u001b[0m\u001b[0mcol\u001b[0m\u001b[1;33m]\u001b[0m\u001b[1;33m\u001b[0m\u001b[1;33m\u001b[0m\u001b[0m\n\u001b[1;32m-> 2682\u001b[1;33m         \u001b[0mkeys\u001b[0m\u001b[1;33m,\u001b[0m \u001b[0mvalues\u001b[0m \u001b[1;33m=\u001b[0m \u001b[0mzip\u001b[0m\u001b[1;33m(\u001b[0m\u001b[1;33m*\u001b[0m\u001b[0mgp_col\u001b[0m\u001b[1;33m)\u001b[0m\u001b[1;33m\u001b[0m\u001b[1;33m\u001b[0m\u001b[0m\n\u001b[0m\u001b[0;32m   2683\u001b[0m         \u001b[0mre_plotf\u001b[0m \u001b[1;33m=\u001b[0m \u001b[0mplotf\u001b[0m\u001b[1;33m(\u001b[0m\u001b[0mkeys\u001b[0m\u001b[1;33m,\u001b[0m \u001b[0mvalues\u001b[0m\u001b[1;33m,\u001b[0m \u001b[0max\u001b[0m\u001b[1;33m,\u001b[0m \u001b[1;33m**\u001b[0m\u001b[0mkwargs\u001b[0m\u001b[1;33m)\u001b[0m\u001b[1;33m\u001b[0m\u001b[1;33m\u001b[0m\u001b[0m\n\u001b[0;32m   2684\u001b[0m         \u001b[0max\u001b[0m\u001b[1;33m.\u001b[0m\u001b[0mset_title\u001b[0m\u001b[1;33m(\u001b[0m\u001b[0mcol\u001b[0m\u001b[1;33m)\u001b[0m\u001b[1;33m\u001b[0m\u001b[1;33m\u001b[0m\u001b[0m\n",
      "\u001b[1;31mValueError\u001b[0m: not enough values to unpack (expected 2, got 0)"
     ]
    },
    {
     "data": {
      "image/png": "[encoded data removed]",
      "text/plain": [
       "<Figure size 720x576 with 1 Axes>"
      ]
     },
     "metadata": {
      "needs_background": "light"
     },
     "output_type": "display_data"
    },
    {
     "data": {
      "image/png": "[encoded data removed]",
      "text/plain": [
       "<Figure size 720x576 with 1 Axes>"
      ]
     },
     "metadata": {
      "needs_background": "light"
     },
     "output_type": "display_data"
    },
    {
     "data": {
      "image/png": "[encoded data removed]",
      "text/plain": [
       "<Figure size 720x576 with 1 Axes>"
      ]
     },
     "metadata": {
      "needs_background": "light"
     },
     "output_type": "display_data"
    }
   ],
   "source": [
    "for gr in u_pgroup:\n",
    "    XY[XY['p_product_group']==gr].boxplot(column='qc_salzrckhalt',by='p_product_type')"
   ]
  },
  {
   "cell_type": "code",
   "execution_count": null,
   "metadata": {},
   "outputs": [],
   "source": []
  }
 ],
 "metadata": {
  "kernelspec": {
   "display_name": "Python 3",
   "language": "python",
   "name": "python3"
  },
  "language_info": {
   "codemirror_mode": {
    "name": "ipython",
    "version": 3
   },
   "file_extension": ".py",
   "mimetype": "text/x-python",
   "name": "python",
   "nbconvert_exporter": "python",
   "pygments_lexer": "ipython3",
   "version": "3.7.3"
  },
  "toc": {
   "base_numbering": 1,
   "nav_menu": {},
   "number_sections": true,
   "sideBar": true,
   "skip_h1_title": false,
   "title_cell": "Table of Contents",
   "title_sidebar": "Contents",
   "toc_cell": false,
   "toc_position": {},
   "toc_section_display": true,
   "toc_window_display": true
  }
 },
 "nbformat": 4,
 "nbformat_minor": 2
}
