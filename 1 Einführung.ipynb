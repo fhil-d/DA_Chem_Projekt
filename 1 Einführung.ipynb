{
 "cells": [
  {
   "cell_type": "markdown",
   "metadata": {},
   "source": [
    "# <center>1. Projektteil: Data Acquisition, Cleaning und Exploration\n",
    "\n",
    "__Data Analytics für Chemieingenieure und Chemiker__\n",
    "\n",
    "Tino Mundt, M. Sc.\n",
    "\n",
    "Prof. Dr. Reinhard Schomäcker\n",
    "\n",
    "__Gruppe C:__\n",
    "\n",
    "Frank Rudolf Hilden 364571 - Giam Chon Lee 400646 - Philippe Samuel Santos da Costa 369810 - Julian Felipe Torres Campos 402424 - Elron Elias Pens 371555\n",
    "\n",
    "__5.1.2020__"
   ]
  },
  {
   "cell_type": "markdown",
   "metadata": {},
   "source": [
    "## 1. Einführung "
   ]
  },
  {
   "cell_type": "markdown",
   "metadata": {},
   "source": [
    "### 1.1. Umkehrosmose-Membranelemente Lewabrane®\n",
    "Alle Lewabrane®-Membranelemente bestehen aus spiralförmig gewickelten Dünnfilm-Verbundmembranen, die speziell für die hocheffiziente Aufbereitung von Trink- und Prozesswässern entwickelt wurden. In folgender Abbildung werden die wichtigsten Hauptbestandteile und die Abmaße eines 8''-Membranelements dargestellt (Quelle: Lewabrane®-Broschüre / Lanxess) \n",
    "\n",
    "<img src=element_dimensions.png width=600>\n",
    "\n",
    "\n",
    "|   <i></i>           | A (Länge)      | B (Durchmesser)  |C (ID)         |\n",
    "|:-------------       |:--------------:|--------------:   |--------------:|\n",
    "| Metrische Einheiten | 1016 mm        |201 mm            |29 mm          |\n",
    "| US-Einheiten        | 40 in          |7.9 in            |1.125 in       |\n",
    "\n",
    "Aufgrund ihrer speziellen Chemie zeichnen sich die Elemente durch ihr besonders hohes Rückhaltevermögen für kritische Substanzen wie Borate, Nitrate und Kieselsäure aus. Aus diesem Grund werden diese Membranelemente hauptsächlich zur Entsalzung von Meerwasser, Brackwasser und schwach salzigen Wässern eingesetzt. Die relevantesten Anwendungen in der Wasseraufbereitung werden folgend aufgelistet (Quelle: Lewabrane®-Broschüre / Lanxess):\n",
    "\n",
    "- Meerwasserentsalzung in kommunalen und industriellen Anlagen\n",
    "- Herstellung von Kesselspeisewasser für Wasser-Dampf-Kreisläufe\n",
    "- Prozesswasser-Vollentsalzung und Partikelentfernung zur Herstellung von Reinstwasser\n",
    "- Dezentrale Wasserentsalzung, etwa für Autowaschanlagen, Wäschereien oder auf Schiffen\n",
    "- Grundwassersanierung und -neubildung zur Gewinnung von Trinkwasser\n",
    "- Aufbereitung industrieller und kommunaler Abwässer"
   ]
  },
  {
   "cell_type": "markdown",
   "metadata": {},
   "source": [
    "### 1.2. Originaler Datensatz und Membrantypen\n",
    "Der originale Datensatz stammt aus der Qualitätskontrolle in der vollautomatisierten Lewabrane®-Produktionsanlage in Bitterfeld. Nach einer genauen Überprüfung der Spalten kann man feststellen, dass jede Zeile des Datensatzes die Ergebnisse einer Qualitätskontrolle wiedergibt. Die Tatsache, dass der Wert der Spalte roll_position für eine bestimmte Rolle immer steigt, weist drauf hin, dass die Produkteigenschaften mehrmals für dieselbe Rolle kontrolliert werden. Die Spalte roll_position ist folglich die genaue Position, an der jede Qualitätskontrolle durchgeführt wird. Jede Spalte enthält natürlich auch Informationen zu den vorigen Herstellungsschritten.\n",
    "\n",
    "Um die spätere Data Cleaning und Exploration zu vereinfachen, ist es an erster Stelle notwendig, die verschiedenen Membrantypen im Datensatz zu identifizieren. Mithilfe der Spalten p_product_group, p_product_type, p_product und p_product_full_name kann man die Rollen im Datensatz einem kommerziellen Produkt zuordnen, indem man die Eigenschaften der Spalten qc_durchminimalersalzrueckhalt und qc_durchminimalerdurchfluss mit den im Lewabrane®-Broschüre aufgelisteten Eigenschaften vergleicht.\n",
    "\n",
    "Die 22 in der Produktionsanlage hergestellten Membrantypen werden in folgender Tabelle aufgelistet. Es ist zu beachten, dass es zwei großen Produktgruppen gibt: Seewasserelemente, mit einem hohen Salzrückhalt (99,8 %) und Brackwasserelemente, mit einem niedrigeren Salzrückhalt\n",
    "\n",
    "|# |Produktgruppe |Produktgruppe |Produkttyp |Produkttyp |Elementtyp |Elementtyp |Produktname |Salzrückhalt (%)|Permeatdurchsatz (m3/d)|\n",
    "|--|--------------|--------------|-----------|-----------|-----------|-----------|------------|------------|-----------------------------|\n",
    "|    |                     |p_product_group |                          |p_product_type |               |p_product    |p_product_full_name |qc_durchminimalersalzrueckhalt |qc_durchminimalerdurchfluss |\n",
    "|1|Seewasserelemente | 3fa7a7dd538c    | High Rejection (HR)      | cd7216b44ce3   | S085 HR 4040  | 7afe98935324 | a79cf6a73839        | 99,8                           | 5,2                         |\n",
    "|2|Seewasserelemente | 3fa7a7dd538c    | High Rejection (HR)      | cd7216b44ce3   | S400 HR       | 2f6f0d02d159 | c807697b3c7e        | 99,8                           | 24,6                        |\n",
    "|3|Seewasserelemente | 3fa7a7dd538c    | High Rejection (HR)      | cd7216b44ce3   | S440 HR       | 9d8899af09b2 | f22a7fef71c5        | 99,8                           | 27,3                        |\n",
    "|4|Seewasserelemente | 3fa7a7dd538c    | High Flow (HF)           | 320144db7b4b   | S085 HF 4040  | 7fc3d3fc5b53 | c13b2f69d3c1        | 99,8                           | 7,2                         |\n",
    "|5|Seewasserelemente | 3fa7a7dd538c    | High Flow (HF)           | 320144db7b4b   | S400 HF       | f653bb26b09c | 3e94b7067349        | 99,8                           | 34,1                        |\n",
    "|6|Seewasserelemente | 3fa7a7dd538c    | High Flow (HF)           | 320144db7b4b   | S440 HF       | d9de8ac9935c | 3394d82edc97        | 99,8                           | 37,5                        |\n",
    "|7|Brackwasserelemente | 4d6474389c69    | High Performance (HP)    | 5200bdfc01a1   | B400 HP       | 0c65830a8310 | df9e75b29918        | 99,7                           | 39,9                        |\n",
    "|8|Brackwasserelemente | 4d6474389c69    | High Performance (HP)    | 5200bdfc01a1   | B440 HP       | 0b20feb848ca | 316c8d1ffca1        | 99,7                           | 43,9                        |\n",
    "|9|Brackwasserelemente | 4d6474389c69    | High Flow (HF)           | 6d2830b1e76d   | B085 HF 4040  | 87481fe9ac92 | 5661014763c8        | 99,5                           | 8,9                         |\n",
    "|10|Brackwasserelemente | 4d6474389c69    | High Flow (HF)           | 6d2830b1e76d   | B400 HF       | 9b7853269545 | 73928f2577b5        | 99,5                           | 39,9                        |\n",
    "|11|Brackwasserelemente | 4d6474389c69    | High Flow (HF)           | 6d2830b1e76d   | B440 HF       | fb83fd553ff7 | 22227b31350f        | 99,7                           | 41,5                        |\n",
    "|12|Brackwasserelemente | 4d6474389c69    | Fouling Resistant (FR)   | f8ba29e9058b   | B085 FR 4040  | 66128e8a065d | df1d09e643af        | 99,5                           | 8,9                         |\n",
    "|13|Brackwasserelemente | 4d6474389c69    | Fouling Resistant (FR)   | f187928fdb22   | B370 FR       | de236e0eada2 | e2b1e6e1d5f5        | 99,7                           | 37,9                        |\n",
    "|14|Brackwasserelemente | 4d6474389c69    | Fouling Resistant (FR)   | f187928fdb22   | B400 FR ASD   | b83ecad519e3 | 54b98d0fe2eb        | 99,7                           | 41,7                        |\n",
    "|15| Brackwasserelemente | 4d6474389c69    | Fouling Resistant (FR)   | f8ba29e9058b   | B400 FR       | 2bb3677c8625 | ff16223eb2bf        | 99,5                           | 39,9                        |\n",
    "|16| Brackwasserelemente | 4d6474389c69    | Low Energy (LE)          | 6989995295da   | B085 LE 4040  | 8a2c186bd014 | 0cc0ba87b12f        | 99,5                           | 7,4                         |\n",
    "|17| Brackwasserelemente | 4d6474389c69    | Low Energy (LE)          | 6989995295da   | B400 LE       | a53b3bf27663 | a640f68db89c        | 99,5                           | 34,8                        |\n",
    "|18| Brackwasserelemente | 4d6474389c69    | Low Energy (LE)          | 6989995295da   | B400 LE ASD   | 1c39db15c26b | b3ccc5e5f9b5        | 99,5                           | 36,2                        |\n",
    "|19| Brackwasserelemente | 4d6474389c69    | Low Energy (LE)          | 6989995295da   | B440 LE       | 0ef124ce8628 | 2256f65c362b        | 99,5                           | 38,3                        |\n",
    "|20| Brackwasserelemente | 4d6474389c69    | Ultra Low Pressure (ULP) | c77cb1692e0e   | B085 ULP 4040 | 3fa561b8e3d6 | 33d21930e431        | 99,5                           | 8,2                         |\n",
    "|21| Brackwasserelemente | 4d6474389c69    | Ultra Low Pressure (ULP) | c77cb1692e0e   | B400 ULP ASD  | 88520138f44f | 3a0c28c7fc8c        | 99,5                           | 38,6                        |\n",
    "|22| Brackwasserelemente | 4d6474389c69    | Ultra Low Pressure (ULP) | c77cb1692e0e   | B440 ULP      | b820e950c2f1 | 630448a85ca3        | 99,5                           | 42,6                        |"
   ]
  }
 ],
 "metadata": {
  "kernelspec": {
   "display_name": "Python 3",
   "language": "python",
   "name": "python3"
  },
  "language_info": {
   "codemirror_mode": {
    "name": "ipython",
    "version": 3
   },
   "file_extension": ".py",
   "mimetype": "text/x-python",
   "name": "python",
   "nbconvert_exporter": "python",
   "pygments_lexer": "ipython3",
   "version": "3.7.3"
  },
  "toc-autonumbering": false
 },
 "nbformat": 4,
 "nbformat_minor": 2
}
